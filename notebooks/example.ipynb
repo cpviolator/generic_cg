{
 "cells": [
  {
   "cell_type": "code",
   "execution_count": null,
   "metadata": {},
   "outputs": [],
   "source": [
    "import numpy as np\n",
    "import pycg as cg #this is the library you are writing"
   ]
  },
  {
   "cell_type": "code",
   "execution_count": null,
   "metadata": {},
   "outputs": [],
   "source": [
    "# Define problem\n",
    "# Ax = b\n",
    "A = np.array([\n",
    "    [1, 0, 0],\n",
    "    [0, 1, 0],\n",
    "    [0, 0, 1]\n",
    "])\n",
    "b = np.array([1, 1, 1])\n",
    "\n",
    "data = {'A': A, 'b': b}\n",
    "\n",
    "#initial guess\n",
    "x = np.array([1, 1, 1])"
   ]
  },
  {
   "cell_type": "code",
   "execution_count": null,
   "metadata": {},
   "outputs": [],
   "source": [
    "# other parameters\n",
    "reltol = 1E-5 # change of (Ax - b)^2 / len(b) (or sqrt of it?) per cg iteration tolerance per degree of freedom\n",
    "abstol = 1E-9 # absolute tolerance for (Ax - b)^2 / len(b) per degree of freedom\n",
    "maxiter = 5 # maximum iterations if tolerance not met\n",
    "\n",
    "kwargs = {'reltol': reltol, 'abstol': abstol, 'maxiter': maxiter}\n",
    "\n",
    "# anything else?"
   ]
  },
  {
   "cell_type": "code",
   "execution_count": null,
   "metadata": {},
   "outputs": [],
   "source": [
    "result = cg.(data = data, init = x, **kwargs)\n",
    "result.sol # returns x that solves Ax = b\n",
    "result.iter # returns iteration count\n",
    "\n",
    "result.data # returns data\n",
    "result.init # returns initial guess\n",
    "result.reltol # etc..."
   ]
  }
 ],
 "metadata": {
  "kernelspec": {
   "display_name": "Python 3",
   "language": "python",
   "name": "python3"
  },
  "language_info": {
   "codemirror_mode": {
    "name": "ipython",
    "version": 3
   },
   "file_extension": ".py",
   "mimetype": "text/x-python",
   "name": "python",
   "nbconvert_exporter": "python",
   "pygments_lexer": "ipython3",
   "version": "3.7.6"
  }
 },
 "nbformat": 4,
 "nbformat_minor": 4
}
